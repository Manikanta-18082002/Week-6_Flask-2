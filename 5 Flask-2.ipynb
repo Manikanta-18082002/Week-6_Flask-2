{
 "cells": [
  {
   "cell_type": "markdown",
   "id": "b4e6ac1f",
   "metadata": {},
   "source": [
    "Q1. Explain GET and POST methods."
   ]
  },
  {
   "cell_type": "markdown",
   "id": "bccd0d13",
   "metadata": {},
   "source": [
    "### GET Method:\n",
    "\n",
    "* Used for requesting data from a server.\n",
    "* Data is in the URL as query parameters.\n",
    "* Data is visible in the URL.\n",
    "* Suitable for simple data retrieval and navigation.\n",
    "* Caching is possible.\n",
    "* Considered idempotent (no side effects).\n",
    "\n",
    "\n",
    "### POST Method:\n",
    "\n",
    "* Used for submitting data to a server.\n",
    "* Data is in the request body, not in the URL.\n",
    "* Data is not visible in the URL.\n",
    "* Suitable for sending sensitive or large data and performing actions that modify server data.\n",
    "* More secure for sensitive information.\n",
    "* Not considered idempotent (can have side effects)."
   ]
  },
  {
   "cell_type": "code",
   "execution_count": null,
   "id": "095e643e",
   "metadata": {},
   "outputs": [],
   "source": []
  },
  {
   "cell_type": "markdown",
   "id": "b806001c",
   "metadata": {},
   "source": [
    "Q2. Why is request used in Flask?"
   ]
  },
  {
   "cell_type": "markdown",
   "id": "4c2cd3af",
   "metadata": {},
   "source": [
    "In Flask, the request object is used to access and handle incoming HTTP requests made to your web application. It is a crucial component for web development in Flask because it provides access to various aspects of an HTTP request, allowing you to extract data from the request, interact with headers, and more. \n",
    "\n",
    "Data Retrieval: The request object allows you to retrieve data sent by clients, such as form data, query parameters, JSON data, and file uploads. You can access this data using attributes like request.form, request.args, request.json, and request.files.\n",
    "\n",
    "HTTP Methods: You can determine the HTTP method used in the request (e.g., GET, POST, PUT, DELETE) by accessing request.method. This information is vital for routing and handling different types of requests.\n",
    "\n",
    "URL Information: The request object provides access to various parts of the URL, such as the path (request.path), full URL (request.url), and the host (request.host).\n",
    "\n",
    "Headers: You can access HTTP headers sent with the request using request.headers. This is useful for extracting information like user-agent, content-type, and authorization headers.\n",
    "\n",
    "Session and Cookies: The request object allows you to work with session data and cookies. You can access and modify cookies with request.cookies and interact with session variables using request.session."
   ]
  },
  {
   "cell_type": "code",
   "execution_count": null,
   "id": "48740101",
   "metadata": {},
   "outputs": [],
   "source": []
  },
  {
   "cell_type": "markdown",
   "id": "1061f63c",
   "metadata": {},
   "source": [
    "Q3. Why is redirect() used in Flask?"
   ]
  },
  {
   "cell_type": "markdown",
   "id": "e4e5d8c3",
   "metadata": {},
   "source": [
    "In Flask, the redirect() function is used to perform an HTTP redirect, which means it instructs the client's web browser to navigate to a different URL. It serves several important purposes in web development:\n",
    "\n",
    "URL Redirection: redirect() is used to send users from one URL to another. This is commonly used after processing a form submission or when a certain action has been completed. For example, after a successful login, you might use redirect() to send the user to their dashboard page.\n",
    "\n",
    "Preventing Duplicate Form Submissions: After a user submits a form (e.g., a registration form), you can use redirect() to prevent them from accidentally resubmitting the form if they refresh the page. This is known as the \"Post/Redirect/Get\" (PRG) pattern.\n",
    "\n",
    "Changing URL Structure: You can use redirect() to change the URL structure of your application. For example, if you've updated your route patterns, you can ensure that old URLs are redirected to their new counterparts, preserving SEO and user experience.\n",
    "\n",
    "Handling Errors: When encountering errors or invalid input, you can use redirect() to send users to an error page or a specific URL where they can correct their input.\n",
    "\n",
    "Enhancing User Experience: Redirects can be used to improve the overall user experience by guiding users to relevant pages or providing feedback after actions are performed."
   ]
  },
  {
   "cell_type": "code",
   "execution_count": null,
   "id": "9c66b435",
   "metadata": {},
   "outputs": [],
   "source": []
  },
  {
   "cell_type": "markdown",
   "id": "19dbb64e",
   "metadata": {},
   "source": [
    "Q4. What are templates in Flask? Why is the render_template() function used?"
   ]
  },
  {
   "cell_type": "markdown",
   "id": "d5b5629a",
   "metadata": {},
   "source": [
    "### Templates:\n",
    "in Flask are files that contain dynamic content and are used to generate HTML or other text-based formats to be served to clients (typically web browsers). Templates allow you to separate the presentation logic from the application logic, making it easier to create dynamic and maintainable web pages. In Flask, the render_template() function is used to render these templates and generate dynamic HTML or other text-based responses.\n",
    "\n",
    "### Use of render_template()\n",
    "The render_template() function in Flask is used to render templates. It takes the name of the template file as an argument (usually with an .html or .txt extension) and any variables you want to pass to the template. Flask then processes the template, replacing placeholders with actual values, and returns the resulting HTML or text as a response to the client."
   ]
  },
  {
   "cell_type": "code",
   "execution_count": null,
   "id": "38011dc2",
   "metadata": {},
   "outputs": [],
   "source": []
  },
  {
   "cell_type": "markdown",
   "id": "ec7136ff",
   "metadata": {},
   "source": [
    "Q5. Create a simple API. Use Postman to test it. Attach the screenshot of the output in the Jupyter Notebook?"
   ]
  },
  {
   "cell_type": "code",
   "execution_count": 1,
   "id": "a2978c5f",
   "metadata": {},
   "outputs": [
    {
     "name": "stdout",
     "output_type": "stream",
     "text": [
      " * Serving Flask app '__main__'\n",
      " * Debug mode: on\n"
     ]
    },
    {
     "name": "stderr",
     "output_type": "stream",
     "text": [
      "WARNING: This is a development server. Do not use it in a production deployment. Use a production WSGI server instead.\n",
      " * Running on http://127.0.0.1:5000\n",
      "Press CTRL+C to quit\n",
      " * Restarting with watchdog (windowsapi)\n"
     ]
    },
    {
     "ename": "SystemExit",
     "evalue": "1",
     "output_type": "error",
     "traceback": [
      "An exception has occurred, use %tb to see the full traceback.\n",
      "\u001b[1;31mSystemExit\u001b[0m\u001b[1;31m:\u001b[0m 1\n"
     ]
    },
    {
     "name": "stderr",
     "output_type": "stream",
     "text": [
      "C:\\Users\\Lenovo\\AppData\\Roaming\\Python\\Python311\\site-packages\\IPython\\core\\interactiveshell.py:3534: UserWarning: To exit: use 'exit', 'quit', or Ctrl-D.\n",
      "  warn(\"To exit: use 'exit', 'quit', or Ctrl-D.\", stacklevel=1)\n"
     ]
    }
   ],
   "source": [
    "from flask import Flask, jsonify, request\n",
    "\n",
    "app = Flask(__name__)\n",
    "\n",
    "# Sample data for tasks\n",
    "tasks = [\n",
    "    {\"id\": 1, \"title\": \"Task 1\", \"done\": False},\n",
    "    {\"id\": 2, \"title\": \"Task 2\", \"done\": True},\n",
    "]\n",
    "\n",
    "# Route to get all tasks\n",
    "@app.route('/tasks', methods=['GET'])\n",
    "def get_tasks():\n",
    "    return jsonify({\"tasks\": tasks})\n",
    "\n",
    "# Route to add a new task\n",
    "@app.route('/tasks', methods=['POST'])\n",
    "def add_task():\n",
    "    new_task = request.json\n",
    "    tasks.append(new_task)\n",
    "    return jsonify({\"message\": \"Task added successfully\"})\n",
    "\n",
    "if __name__ == '__main__':\n",
    "    app.run(debug=True)\n"
   ]
  },
  {
   "cell_type": "code",
   "execution_count": null,
   "id": "7284015c",
   "metadata": {},
   "outputs": [],
   "source": []
  }
 ],
 "metadata": {
  "kernelspec": {
   "display_name": "Python 3 (ipykernel)",
   "language": "python",
   "name": "python3"
  },
  "language_info": {
   "codemirror_mode": {
    "name": "ipython",
    "version": 3
   },
   "file_extension": ".py",
   "mimetype": "text/x-python",
   "name": "python",
   "nbconvert_exporter": "python",
   "pygments_lexer": "ipython3",
   "version": "3.11.4"
  }
 },
 "nbformat": 4,
 "nbformat_minor": 5
}
